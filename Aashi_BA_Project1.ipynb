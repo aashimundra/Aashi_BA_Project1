{
 "cells": [
  {
   "cell_type": "code",
   "execution_count": 1,
   "id": "8dd6ebc9-4553-403d-8700-5f348cc7212e",
   "metadata": {},
   "outputs": [],
   "source": [
    "import pandas as pd"
   ]
  },
  {
   "cell_type": "code",
   "execution_count": 2,
   "id": "6ab0a40e-be0b-4928-8d14-069c04239369",
   "metadata": {},
   "outputs": [],
   "source": [
    "df = pd.read_pickle(r\"shared/Motor_Vehicle_Collisions_-_Crashes.pkl\")"
   ]
  },
  {
   "cell_type": "code",
   "execution_count": 3,
   "id": "1760edd3-51b3-4cb4-bfaa-69ce869002ed",
   "metadata": {},
   "outputs": [
    {
     "data": {
      "text/html": [
       "<div>\n",
       "<style scoped>\n",
       "    .dataframe tbody tr th:only-of-type {\n",
       "        vertical-align: middle;\n",
       "    }\n",
       "\n",
       "    .dataframe tbody tr th {\n",
       "        vertical-align: top;\n",
       "    }\n",
       "\n",
       "    .dataframe thead th {\n",
       "        text-align: right;\n",
       "    }\n",
       "</style>\n",
       "<table border=\"1\" class=\"dataframe\">\n",
       "  <thead>\n",
       "    <tr style=\"text-align: right;\">\n",
       "      <th></th>\n",
       "      <th>CRASH DATE_CRASH TIME</th>\n",
       "      <th>BOROUGH</th>\n",
       "      <th>ZIP CODE</th>\n",
       "      <th>LATITUDE</th>\n",
       "      <th>LONGITUDE</th>\n",
       "      <th>LOCATION</th>\n",
       "      <th>ON STREET NAME</th>\n",
       "      <th>CROSS STREET NAME</th>\n",
       "      <th>OFF STREET NAME</th>\n",
       "      <th>NUMBER OF PERSONS INJURED</th>\n",
       "      <th>...</th>\n",
       "      <th>CONTRIBUTING FACTOR VEHICLE 2</th>\n",
       "      <th>CONTRIBUTING FACTOR VEHICLE 3</th>\n",
       "      <th>CONTRIBUTING FACTOR VEHICLE 4</th>\n",
       "      <th>CONTRIBUTING FACTOR VEHICLE 5</th>\n",
       "      <th>COLLISION_ID</th>\n",
       "      <th>VEHICLE TYPE CODE 1</th>\n",
       "      <th>VEHICLE TYPE CODE 2</th>\n",
       "      <th>VEHICLE TYPE CODE 3</th>\n",
       "      <th>VEHICLE TYPE CODE 4</th>\n",
       "      <th>VEHICLE TYPE CODE 5</th>\n",
       "    </tr>\n",
       "  </thead>\n",
       "  <tbody>\n",
       "    <tr>\n",
       "      <th>0</th>\n",
       "      <td>2021-09-11 02:39:00</td>\n",
       "      <td>NaN</td>\n",
       "      <td>NaN</td>\n",
       "      <td>NaN</td>\n",
       "      <td>NaN</td>\n",
       "      <td>NaN</td>\n",
       "      <td>WHITESTONE EXPRESSWAY</td>\n",
       "      <td>20 AVENUE</td>\n",
       "      <td>NaN</td>\n",
       "      <td>2.0</td>\n",
       "      <td>...</td>\n",
       "      <td>Unspecified</td>\n",
       "      <td>NaN</td>\n",
       "      <td>NaN</td>\n",
       "      <td>NaN</td>\n",
       "      <td>4455765</td>\n",
       "      <td>Sedan</td>\n",
       "      <td>Sedan</td>\n",
       "      <td>NaN</td>\n",
       "      <td>NaN</td>\n",
       "      <td>NaN</td>\n",
       "    </tr>\n",
       "    <tr>\n",
       "      <th>1</th>\n",
       "      <td>2022-03-26 11:45:00</td>\n",
       "      <td>NaN</td>\n",
       "      <td>NaN</td>\n",
       "      <td>NaN</td>\n",
       "      <td>NaN</td>\n",
       "      <td>NaN</td>\n",
       "      <td>QUEENSBORO BRIDGE UPPER</td>\n",
       "      <td>NaN</td>\n",
       "      <td>NaN</td>\n",
       "      <td>1.0</td>\n",
       "      <td>...</td>\n",
       "      <td>NaN</td>\n",
       "      <td>NaN</td>\n",
       "      <td>NaN</td>\n",
       "      <td>NaN</td>\n",
       "      <td>4513547</td>\n",
       "      <td>Sedan</td>\n",
       "      <td>NaN</td>\n",
       "      <td>NaN</td>\n",
       "      <td>NaN</td>\n",
       "      <td>NaN</td>\n",
       "    </tr>\n",
       "    <tr>\n",
       "      <th>2</th>\n",
       "      <td>2022-06-29 06:55:00</td>\n",
       "      <td>NaN</td>\n",
       "      <td>NaN</td>\n",
       "      <td>NaN</td>\n",
       "      <td>NaN</td>\n",
       "      <td>NaN</td>\n",
       "      <td>THROGS NECK BRIDGE</td>\n",
       "      <td>NaN</td>\n",
       "      <td>NaN</td>\n",
       "      <td>0.0</td>\n",
       "      <td>...</td>\n",
       "      <td>Unspecified</td>\n",
       "      <td>NaN</td>\n",
       "      <td>NaN</td>\n",
       "      <td>NaN</td>\n",
       "      <td>4541903</td>\n",
       "      <td>Sedan</td>\n",
       "      <td>Pick-up Truck</td>\n",
       "      <td>NaN</td>\n",
       "      <td>NaN</td>\n",
       "      <td>NaN</td>\n",
       "    </tr>\n",
       "    <tr>\n",
       "      <th>3</th>\n",
       "      <td>2021-09-11 09:35:00</td>\n",
       "      <td>BROOKLYN</td>\n",
       "      <td>11208.0</td>\n",
       "      <td>40.667202</td>\n",
       "      <td>-73.866500</td>\n",
       "      <td>(40.667202, -73.8665)</td>\n",
       "      <td>NaN</td>\n",
       "      <td>NaN</td>\n",
       "      <td>1211      LORING AVENUE</td>\n",
       "      <td>0.0</td>\n",
       "      <td>...</td>\n",
       "      <td>NaN</td>\n",
       "      <td>NaN</td>\n",
       "      <td>NaN</td>\n",
       "      <td>NaN</td>\n",
       "      <td>4456314</td>\n",
       "      <td>Sedan</td>\n",
       "      <td>NaN</td>\n",
       "      <td>NaN</td>\n",
       "      <td>NaN</td>\n",
       "      <td>NaN</td>\n",
       "    </tr>\n",
       "    <tr>\n",
       "      <th>4</th>\n",
       "      <td>2021-12-14 08:13:00</td>\n",
       "      <td>BROOKLYN</td>\n",
       "      <td>11233.0</td>\n",
       "      <td>40.683304</td>\n",
       "      <td>-73.917274</td>\n",
       "      <td>(40.683304, -73.917274)</td>\n",
       "      <td>SARATOGA AVENUE</td>\n",
       "      <td>DECATUR STREET</td>\n",
       "      <td>NaN</td>\n",
       "      <td>0.0</td>\n",
       "      <td>...</td>\n",
       "      <td>NaN</td>\n",
       "      <td>NaN</td>\n",
       "      <td>NaN</td>\n",
       "      <td>NaN</td>\n",
       "      <td>4486609</td>\n",
       "      <td>NaN</td>\n",
       "      <td>NaN</td>\n",
       "      <td>NaN</td>\n",
       "      <td>NaN</td>\n",
       "      <td>NaN</td>\n",
       "    </tr>\n",
       "  </tbody>\n",
       "</table>\n",
       "<p>5 rows × 28 columns</p>\n",
       "</div>"
      ],
      "text/plain": [
       "  CRASH DATE_CRASH TIME   BOROUGH ZIP CODE   LATITUDE  LONGITUDE  \\\n",
       "0   2021-09-11 02:39:00       NaN      NaN        NaN        NaN   \n",
       "1   2022-03-26 11:45:00       NaN      NaN        NaN        NaN   \n",
       "2   2022-06-29 06:55:00       NaN      NaN        NaN        NaN   \n",
       "3   2021-09-11 09:35:00  BROOKLYN  11208.0  40.667202 -73.866500   \n",
       "4   2021-12-14 08:13:00  BROOKLYN  11233.0  40.683304 -73.917274   \n",
       "\n",
       "                  LOCATION           ON STREET NAME CROSS STREET NAME  \\\n",
       "0                      NaN    WHITESTONE EXPRESSWAY         20 AVENUE   \n",
       "1                      NaN  QUEENSBORO BRIDGE UPPER               NaN   \n",
       "2                      NaN       THROGS NECK BRIDGE               NaN   \n",
       "3    (40.667202, -73.8665)                      NaN               NaN   \n",
       "4  (40.683304, -73.917274)          SARATOGA AVENUE    DECATUR STREET   \n",
       "\n",
       "           OFF STREET NAME  NUMBER OF PERSONS INJURED  ...  \\\n",
       "0                      NaN                        2.0  ...   \n",
       "1                      NaN                        1.0  ...   \n",
       "2                      NaN                        0.0  ...   \n",
       "3  1211      LORING AVENUE                        0.0  ...   \n",
       "4                      NaN                        0.0  ...   \n",
       "\n",
       "   CONTRIBUTING FACTOR VEHICLE 2  CONTRIBUTING FACTOR VEHICLE 3  \\\n",
       "0                    Unspecified                            NaN   \n",
       "1                            NaN                            NaN   \n",
       "2                    Unspecified                            NaN   \n",
       "3                            NaN                            NaN   \n",
       "4                            NaN                            NaN   \n",
       "\n",
       "   CONTRIBUTING FACTOR VEHICLE 4  CONTRIBUTING FACTOR VEHICLE 5  COLLISION_ID  \\\n",
       "0                            NaN                            NaN       4455765   \n",
       "1                            NaN                            NaN       4513547   \n",
       "2                            NaN                            NaN       4541903   \n",
       "3                            NaN                            NaN       4456314   \n",
       "4                            NaN                            NaN       4486609   \n",
       "\n",
       "   VEHICLE TYPE CODE 1  VEHICLE TYPE CODE 2 VEHICLE TYPE CODE 3  \\\n",
       "0                Sedan                Sedan                 NaN   \n",
       "1                Sedan                  NaN                 NaN   \n",
       "2                Sedan        Pick-up Truck                 NaN   \n",
       "3                Sedan                  NaN                 NaN   \n",
       "4                  NaN                  NaN                 NaN   \n",
       "\n",
       "  VEHICLE TYPE CODE 4 VEHICLE TYPE CODE 5  \n",
       "0                 NaN                 NaN  \n",
       "1                 NaN                 NaN  \n",
       "2                 NaN                 NaN  \n",
       "3                 NaN                 NaN  \n",
       "4                 NaN                 NaN  \n",
       "\n",
       "[5 rows x 28 columns]"
      ]
     },
     "execution_count": 3,
     "metadata": {},
     "output_type": "execute_result"
    }
   ],
   "source": [
    "df.head() # getting an insight of the data"
   ]
  },
  {
   "cell_type": "code",
   "execution_count": 4,
   "id": "7bdb9ba0-75a7-41e1-bd9c-87df33369e9f",
   "metadata": {},
   "outputs": [],
   "source": [
    "crashes_by_borough = df['BOROUGH'].value_counts(dropna=True) # finding out borough wise crashes and ignoring the null values"
   ]
  },
  {
   "cell_type": "code",
   "execution_count": 5,
   "id": "6483446f-f047-4de8-b974-3792bc1fb390",
   "metadata": {},
   "outputs": [],
   "source": [
    "crashes_by_borough_sorted = crashes_by_borough.sort_values(ascending=False) # sorting the crashes by borough in descending order"
   ]
  },
  {
   "cell_type": "code",
   "execution_count": 6,
   "id": "6dd1aedd-1792-4976-88be-6be2d6394d6d",
   "metadata": {},
   "outputs": [],
   "source": [
    "second_highest_borough = crashes_by_borough_sorted.index[1]  # extracting the second highest borough with crashes\n",
    "second_highest_crashes = crashes_by_borough_sorted.iloc[1]"
   ]
  },
  {
   "cell_type": "code",
   "execution_count": 7,
   "id": "a6e32905-efc6-4a39-b435-882a21c228f3",
   "metadata": {},
   "outputs": [
    {
     "name": "stdout",
     "output_type": "stream",
     "text": [
      "The borough with the second highest number of crashes is QUEENS, with 372457 crashes.\n"
     ]
    }
   ],
   "source": [
    "print(f\"The borough with the second highest number of crashes is {second_highest_borough}, with {second_highest_crashes} crashes.\")"
   ]
  },
  {
   "cell_type": "code",
   "execution_count": 8,
   "id": "698ec9e2-93b7-4a52-9360-6d1dde858e3a",
   "metadata": {},
   "outputs": [],
   "source": [
    "populations = {\n",
    "    'BRONX': 1446788,\n",
    "    'BROOKLYN': 2648452,\n",
    "    'MANHATTAN': 1638281,\n",
    "    'QUEENS': 2330295,\n",
    "    'STATEN ISLAND': 487155\n",
    "}"
   ]
  },
  {
   "cell_type": "code",
   "execution_count": 9,
   "id": "1135c56f-082f-4a42-a7f6-ec6d8d3da3a5",
   "metadata": {},
   "outputs": [],
   "source": [
    "crashes_per_100k = {\n",
    "    borough: (crashes_by_borough.get(borough, 0) / populations[borough]) * 100000\n",
    "    for borough in populations\n",
    "} # calculating the number of crashes per 100000 people"
   ]
  },
  {
   "cell_type": "code",
   "execution_count": 11,
   "id": "020f74ab-81af-4de9-9d2f-9630796faeff",
   "metadata": {},
   "outputs": [],
   "source": [
    "max_crashes_borough = max(crashes_per_100k, key=crashes_per_100k.get)\n",
    "max_crashes_rate = crashes_per_100k[max_crashes_borough]"
   ]
  },
  {
   "cell_type": "code",
   "execution_count": 12,
   "id": "ade1730a-b6c2-42e8-ab1a-687b35af3d25",
   "metadata": {},
   "outputs": [
    {
     "name": "stdout",
     "output_type": "stream",
     "text": [
      "The borough with the most crashes for every 100,000 people is MANHATTAN, with a rate of 19121.63.\n"
     ]
    }
   ],
   "source": [
    "print(f\"The borough with the most crashes for every 100,000 people is {max_crashes_borough}, with a rate of {max_crashes_rate:.2f}.\")# showing the data with exactly 2 decimal places"
   ]
  },
  {
   "cell_type": "code",
   "execution_count": 13,
   "id": "4285d04a-0e76-4f41-acb1-e019e3b0e286",
   "metadata": {},
   "outputs": [],
   "source": [
    "specified_factors_df = df[df['CONTRIBUTING FACTOR VEHICLE 1'] != 'Unspecified']"
   ]
  },
  {
   "cell_type": "code",
   "execution_count": 14,
   "id": "e23d728d-cbcc-4ab7-8453-8e40b05db8d2",
   "metadata": {},
   "outputs": [],
   "source": [
    "leading_cause_series = specified_factors_df['CONTRIBUTING FACTOR VEHICLE 1'].value_counts() #a series of each unique value in that column is been counted\n",
    "leading_cause = leading_cause_series.idxmax() # To calculate the leading contributing factor for vehicle collision and the count of attributes related to that collision\n",
    "leading_cause_count = leading_cause_series.max() "
   ]
  },
  {
   "cell_type": "code",
   "execution_count": 15,
   "id": "20a390e6-e461-4912-abf0-164ef9bf34cd",
   "metadata": {},
   "outputs": [],
   "source": [
    "total_specified_accidents = specified_factors_df['CONTRIBUTING FACTOR VEHICLE 1'].count() #total number of contributuing factors "
   ]
  },
  {
   "cell_type": "code",
   "execution_count": 16,
   "id": "57c70d3a-a5b6-4967-a58a-5dd567bca041",
   "metadata": {},
   "outputs": [],
   "source": [
    "proportion_of_accidents = leading_cause_count / total_specified_accidents"
   ]
  },
  {
   "cell_type": "code",
   "execution_count": 17,
   "id": "26c2ef16-6f71-435f-9812-0f5f5da4b63a",
   "metadata": {},
   "outputs": [
    {
     "name": "stdout",
     "output_type": "stream",
     "text": [
      "The leading cause of crashes is 'Driver Inattention/Distraction' with 401262 crashes,\n",
      "which represents 30.42% of the accidents with a specified contributing factor.\n"
     ]
    }
   ],
   "source": [
    "print(f\"The leading cause of crashes is '{leading_cause}' with {leading_cause_count} crashes,\")\n",
    "print(f\"which represents {proportion_of_accidents:.2%} of the accidents with a specified contributing factor.\")"
   ]
  },
  {
   "cell_type": "code",
   "execution_count": 18,
   "id": "22bb3510-4d96-47a6-bb11-593886dbbbc7",
   "metadata": {},
   "outputs": [],
   "source": [
    "top_5_causes = leading_cause_series.head(5)"
   ]
  },
  {
   "cell_type": "code",
   "execution_count": 19,
   "id": "f1f382de-63f1-464d-bf0f-52a308283438",
   "metadata": {},
   "outputs": [],
   "source": [
    "top_5_crashes_total = top_5_causes.sum()"
   ]
  },
  {
   "cell_type": "code",
   "execution_count": 20,
   "id": "15d6330e-f46c-49db-8797-d184ea63df87",
   "metadata": {},
   "outputs": [
    {
     "name": "stdout",
     "output_type": "stream",
     "text": [
      "Top 5 causes of crashes:\n",
      "CONTRIBUTING FACTOR VEHICLE 1\n",
      "Driver Inattention/Distraction    401262\n",
      "Failure to Yield Right-of-Way     119166\n",
      "Following Too Closely             107467\n",
      "Backing Unsafely                   75042\n",
      "Other Vehicular                    62688\n",
      "Name: count, dtype: int64\n",
      "\n",
      "The top 5 causes account for 57.76% of all specified crashes.\n"
     ]
    }
   ],
   "source": [
    "total_specified_crashes = specified_factors_df.shape[0]\n",
    "top_5_proportion = top_5_crashes_total / total_specified_crashes\n",
    "\n",
    "# the top 5 causes and their proportion of total specified crashes\n",
    "print(\"Top 5 causes of crashes:\")\n",
    "print(top_5_causes)\n",
    "print(f\"\\nThe top 5 causes account for {top_5_proportion:.2%} of all specified crashes.\")"
   ]
  },
  {
   "cell_type": "code",
   "execution_count": 21,
   "id": "f92064f7-b79a-4207-8014-daadefcd9958",
   "metadata": {},
   "outputs": [],
   "source": [
    "# Replacing missing values in 'NUMBER OF PERSONS KILLED' column with 0\n",
    "df['NUMBER OF PERSONS KILLED'] = df['NUMBER OF PERSONS KILLED'].fillna(0)\n"
   ]
  },
  {
   "cell_type": "code",
   "execution_count": 22,
   "id": "a81fe28b-b3d0-45fc-b0d5-3fda003d1381",
   "metadata": {},
   "outputs": [
    {
     "data": {
      "text/plain": [
       "88"
      ]
     },
     "execution_count": 22,
     "metadata": {},
     "output_type": "execute_result"
    }
   ],
   "source": [
    "# Filtering for accidents with two or more fatalities\n",
    "accidents_with_two_or_more_fatalities = df[df['NUMBER OF PERSONS KILLED'] >= 2]\n",
    "\n",
    "# total count of such accidents\n",
    "total_count = accidents_with_two_or_more_fatalities.shape[0]\n",
    "\n",
    "total_count"
   ]
  },
  {
   "cell_type": "code",
   "execution_count": 23,
   "id": "82a0ac58-99b7-410e-a6cf-a81fefa7087d",
   "metadata": {},
   "outputs": [
    {
     "data": {
      "text/plain": [
       "1.3893258747079764"
      ]
     },
     "execution_count": 23,
     "metadata": {},
     "output_type": "execute_result"
    }
   ],
   "source": [
    "#the average number of accidents causing at least one death per 1000 accidents\n",
    "accidents_with_deaths = df[df['NUMBER OF PERSONS KILLED'] >= 1].shape[0]\n",
    "total_accidents = df.shape[0]\n",
    "\n",
    "# Calculating the ratio and multiplying it by 1000 to find the average per 1000 accidents\n",
    "average_deaths_per_1000_accidents = (accidents_with_deaths / total_accidents) * 1000\n",
    "\n",
    "average_deaths_per_1000_accidents"
   ]
  },
  {
   "cell_type": "code",
   "execution_count": 24,
   "id": "b8cc934e-ccb7-4a04-9563-65a25203e72a",
   "metadata": {},
   "outputs": [
    {
     "data": {
      "text/plain": [
       "37.4350983156158"
      ]
     },
     "execution_count": 24,
     "metadata": {},
     "output_type": "execute_result"
    }
   ],
   "source": [
    "# the proportion of accidents without a Cross Street Name\n",
    "proportion_no_cross_street = (df['CROSS STREET NAME'].isnull().sum() / len(df)) * 100\n",
    "\n",
    "proportion_no_cross_street"
   ]
  },
  {
   "cell_type": "code",
   "execution_count": 25,
   "id": "ceb636eb-5c27-414a-8570-5c9a7a095969",
   "metadata": {},
   "outputs": [
    {
     "data": {
      "text/html": [
       "<div>\n",
       "<style scoped>\n",
       "    .dataframe tbody tr th:only-of-type {\n",
       "        vertical-align: middle;\n",
       "    }\n",
       "\n",
       "    .dataframe tbody tr th {\n",
       "        vertical-align: top;\n",
       "    }\n",
       "\n",
       "    .dataframe thead th {\n",
       "        text-align: right;\n",
       "    }\n",
       "</style>\n",
       "<table border=\"1\" class=\"dataframe\">\n",
       "  <thead>\n",
       "    <tr style=\"text-align: right;\">\n",
       "      <th></th>\n",
       "      <th>VEHICLE TYPE CODE 1</th>\n",
       "      <th>VEHICLE TYPE CODE 2</th>\n",
       "      <th>counts</th>\n",
       "    </tr>\n",
       "  </thead>\n",
       "  <tbody>\n",
       "    <tr>\n",
       "      <th>3948</th>\n",
       "      <td>Sedan</td>\n",
       "      <td>Sedan</td>\n",
       "      <td>197944</td>\n",
       "    </tr>\n",
       "  </tbody>\n",
       "</table>\n",
       "</div>"
      ],
      "text/plain": [
       "     VEHICLE TYPE CODE 1 VEHICLE TYPE CODE 2  counts\n",
       "3948               Sedan               Sedan  197944"
      ]
     },
     "execution_count": 25,
     "metadata": {},
     "output_type": "execute_result"
    }
   ],
   "source": [
    "# Counting the most common combinations of the two columns namely 'VEHICLE TYPE CODE 1' and 'VEHICLE TYPE CODE 2'\n",
    "vehicle_combinations = df.groupby(['VEHICLE TYPE CODE 1', 'VEHICLE TYPE CODE 2']).size().reset_index(name='counts')\n",
    "\n",
    "# Identifying the combination with the most accidents that happened\n",
    "most_common_combination = vehicle_combinations.sort_values(by='counts', ascending=False).head(1)\n",
    "\n",
    "most_common_combination"
   ]
  },
  {
   "cell_type": "code",
   "execution_count": 26,
   "id": "fe65d0f0-7ba1-4d56-beed-457282453fb0",
   "metadata": {},
   "outputs": [
    {
     "data": {
      "text/plain": [
       "(101, 21656, 0.0046638345031400075)"
      ]
     },
     "execution_count": 26,
     "metadata": {},
     "output_type": "execute_result"
    }
   ],
   "source": [
    "# Using the given assumptions that 'Alcohol Involvement' is a contributing factor and using the 'NUMBER OF PERSONS KILLED' field\n",
    "# Filtering the dataset which consist of 'Alcohol Involvement' crashes\n",
    "alcohol_involved_crashes = df[df['CONTRIBUTING FACTOR VEHICLE 1'] == 'Alcohol Involvement']\n",
    "\n",
    "# Calculating the number of crashes  that resulted in at least one fatality\n",
    "fatal_alcohol_crashes = alcohol_involved_crashes[alcohol_involved_crashes['NUMBER OF PERSONS KILLED'] > 0].shape[0]\n",
    "\n",
    "# the total number of alcohol-involved crashes\n",
    "total_alcohol_crashes = alcohol_involved_crashes.shape[0]\n",
    "\n",
    "# the proportion of alcohol-involved crashes which resulted in fatalities\n",
    "proportion_fatal_alcohol_crashes = fatal_alcohol_crashes / total_alcohol_crashes if total_alcohol_crashes > 0 else 0\n",
    "\n",
    "fatal_alcohol_crashes, total_alcohol_crashes, proportion_fatal_alcohol_crashes"
   ]
  },
  {
   "cell_type": "code",
   "execution_count": 27,
   "id": "3e2f9d9b-510f-42fe-bd3d-ad50d993fc31",
   "metadata": {},
   "outputs": [
    {
     "name": "stdout",
     "output_type": "stream",
     "text": [
      "Index(['CRASH DATE_CRASH TIME', 'BOROUGH', 'ZIP CODE', 'LATITUDE', 'LONGITUDE',\n",
      "       'LOCATION', 'ON STREET NAME', 'CROSS STREET NAME', 'OFF STREET NAME',\n",
      "       'NUMBER OF PERSONS INJURED', 'NUMBER OF PERSONS KILLED',\n",
      "       'NUMBER OF PEDESTRIANS INJURED', 'NUMBER OF PEDESTRIANS KILLED',\n",
      "       'NUMBER OF CYCLIST INJURED', 'NUMBER OF CYCLIST KILLED',\n",
      "       'NUMBER OF MOTORIST INJURED', 'NUMBER OF MOTORIST KILLED',\n",
      "       'CONTRIBUTING FACTOR VEHICLE 1', 'CONTRIBUTING FACTOR VEHICLE 2',\n",
      "       'CONTRIBUTING FACTOR VEHICLE 3', 'CONTRIBUTING FACTOR VEHICLE 4',\n",
      "       'CONTRIBUTING FACTOR VEHICLE 5', 'COLLISION_ID', 'VEHICLE TYPE CODE 1',\n",
      "       'VEHICLE TYPE CODE 2', 'VEHICLE TYPE CODE 3', 'VEHICLE TYPE CODE 4',\n",
      "       'VEHICLE TYPE CODE 5'],\n",
      "      dtype='object')\n"
     ]
    }
   ],
   "source": [
    "print(df.columns)\n",
    "#finding the names of the columns"
   ]
  },
  {
   "cell_type": "code",
   "execution_count": 28,
   "id": "c04c6719-9f7e-4b86-b9d2-c1173f334958",
   "metadata": {},
   "outputs": [
    {
     "data": {
      "text/plain": [
       "20.514010935243242"
      ]
     },
     "execution_count": 28,
     "metadata": {},
     "output_type": "execute_result"
    }
   ],
   "source": [
    "df['CRASH DATE_CRASH TIME'] = pd.to_datetime(df['CRASH DATE_CRASH TIME'])\n",
    "\n",
    "# calculating the crashes occurring between 4 PM (16:00) and before 7 PM (19:00)\n",
    "evening_rush_hour_crashes = df[(df['CRASH DATE_CRASH TIME'].dt.hour >= 16) & (df['CRASH DATE_CRASH TIME'].dt.hour < 19)]\n",
    "\n",
    "# Calculate the proportion\n",
    "total_crashes = len(df)\n",
    "evening_rush_hour_crashes_count = len(evening_rush_hour_crashes)\n",
    "proportion = evening_rush_hour_crashes_count / total_crashes * 100\n",
    "\n",
    "proportion"
   ]
  },
  {
   "cell_type": "code",
   "execution_count": 29,
   "id": "0c600d1b-0c57-491c-bb5d-422bd4523ad6",
   "metadata": {},
   "outputs": [
    {
     "data": {
      "text/plain": [
       "50.04565018912221"
      ]
     },
     "execution_count": 29,
     "metadata": {},
     "output_type": "execute_result"
    }
   ],
   "source": [
    "# Filtering the dataset for crashes involving motorcycles\n",
    "motorcycle_crashes = df[(df['VEHICLE TYPE CODE 1'].str.contains('MOTORCYCLE', na=False)) | \n",
    "                         (df['VEHICLE TYPE CODE 2'].str.contains('MOTORCYCLE', na=False))]\n",
    "\n",
    "# Finding out the cases where injuries are greater than 0 and fatalities are equal to 0\n",
    "injuries_no_fatalities = motorcycle_crashes[(motorcycle_crashes['NUMBER OF PERSONS INJURED'] > 0) & \n",
    "                                            (motorcycle_crashes['NUMBER OF PERSONS KILLED'] == 0)]\n",
    "\n",
    "# Calculate the proportion\n",
    "total_motorcycle_crashes = len(motorcycle_crashes)\n",
    "injuries_no_fatalities_count = len(injuries_no_fatalities)\n",
    "proportion = injuries_no_fatalities_count / total_motorcycle_crashes * 100\n",
    "\n",
    "proportion"
   ]
  },
  {
   "cell_type": "code",
   "execution_count": 30,
   "id": "0eaecab7-152e-44ec-ab4b-ec0753a89fa5",
   "metadata": {},
   "outputs": [
    {
     "data": {
      "text/plain": [
       "19108"
      ]
     },
     "execution_count": 30,
     "metadata": {},
     "output_type": "execute_result"
    }
   ],
   "source": [
    "# Count the number of crashes where vehicle type is 'BICYCLE'\n",
    "bicycle_crashes = df[(df['VEHICLE TYPE CODE 1'].str.contains('BICYCLE', na=False)) | \n",
    "                     (df['VEHICLE TYPE CODE 2'].str.contains('BICYCLE', na=False))]\n",
    "\n",
    "# Getting the total count of crashes which involves bicycles\n",
    "total_bicycle_crashes = len(bicycle_crashes)\n",
    "\n",
    "total_bicycle_crashes"
   ]
  },
  {
   "cell_type": "code",
   "execution_count": null,
   "id": "2b5c0544-b6f7-498a-840f-acbd216dfb06",
   "metadata": {},
   "outputs": [],
   "source": []
  }
 ],
 "metadata": {
  "kernelspec": {
   "display_name": "Python [conda env:mggy8413gpu]",
   "language": "python",
   "name": "conda-env-mggy8413gpu-py"
  },
  "language_info": {
   "codemirror_mode": {
    "name": "ipython",
    "version": 3
   },
   "file_extension": ".py",
   "mimetype": "text/x-python",
   "name": "python",
   "nbconvert_exporter": "python",
   "pygments_lexer": "ipython3",
   "version": "3.10.13"
  }
 },
 "nbformat": 4,
 "nbformat_minor": 5
}
